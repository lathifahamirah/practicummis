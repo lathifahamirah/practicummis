{
  "nbformat": 4,
  "nbformat_minor": 0,
  "metadata": {
    "colab": {
      "provenance": [],
      "authorship_tag": "ABX9TyN8JQ62lSTlAIASa3zLLQy1",
      "include_colab_link": true
    },
    "kernelspec": {
      "name": "python3",
      "display_name": "Python 3"
    },
    "language_info": {
      "name": "python"
    }
  },
  "cells": [
    {
      "cell_type": "markdown",
      "metadata": {
        "id": "view-in-github",
        "colab_type": "text"
      },
      "source": [
        "<a href=\"https://colab.research.google.com/github/lathifahamirah/practicummis/blob/main/SIDANG_FIX.ipynb\" target=\"_parent\"><img src=\"https://colab.research.google.com/assets/colab-badge.svg\" alt=\"Open In Colab\"/></a>"
      ]
    },
    {
      "cell_type": "code",
      "execution_count": null,
      "metadata": {
        "id": "nvr1ejaZS0hG"
      },
      "outputs": [],
      "source": [
        "!pip install hdbscan\n",
        "\n",
        "import numpy as np\n",
        "import pandas as pd\n",
        "import hdbscan\n",
        "import seaborn as sns\n",
        "import matplotlib.pyplot as plt\n",
        "from sklearn.preprocessing import StandardScaler\n",
        "from sklearn.cluster import KMeans\n",
        "from sklearn.metrics import silhouette_score"
      ]
    },
    {
      "cell_type": "code",
      "source": [
        "data=pd.read_csv('/content/datacoba.csv', sep=\";\")\n",
        "data.head()"
      ],
      "metadata": {
        "id": "3Tg6Oz9JS2PY"
      },
      "execution_count": null,
      "outputs": []
    },
    {
      "cell_type": "code",
      "source": [
        "datagizi = data.drop(columns=['NamaProduk'])\n",
        "datagizi.head()"
      ],
      "metadata": {
        "id": "vaquzGccS4Ht"
      },
      "execution_count": null,
      "outputs": []
    },
    {
      "cell_type": "code",
      "source": [
        "from sklearn.manifold import MDS\n",
        "import numpy as np\n",
        "import pandas as pd\n",
        "import matplotlib.pyplot as plt\n",
        "\n",
        "X = datagizi.values\n",
        "\n",
        "# Inisialisasi MDS\n",
        "mds = MDS(n_components=2, dissimilarity='euclidean', random_state=42, normalized_stress='auto')\n",
        "X_mds = mds.fit_transform(X)\n",
        "\n",
        "# Menampilkan nilai stress\n",
        "print(f'Stress: {mds.stress_:.4f}')\n",
        "\n",
        "# Menghitung titik tengah (mean atau median) untuk analisis kuadran\n",
        "x_median = np.median(X_mds[:, 0])\n",
        "y_median = np.median(X_mds[:, 1])\n",
        "\n",
        "# Menentukan warna berdasarkan kuadran\n",
        "colors = []\n",
        "labels = []\n",
        "for x, y in zip(X_mds[:, 0], X_mds[:, 1]):\n",
        "    if x > x_median and y > y_median:\n",
        "        colors.append('green')  # Kuadran 1\n",
        "        labels.append('Kuadran 1')\n",
        "    elif x < x_median and y > y_median:\n",
        "        colors.append('blue')  # Kuadran 2\n",
        "        labels.append('Kuadran 2')\n",
        "    elif x < x_median and y < y_median:\n",
        "        colors.append('yellow')  # Kuadran 3\n",
        "        labels.append('Kuadran 3')\n",
        "    else:\n",
        "        colors.append('red')  # Kuadran 4\n",
        "        labels.append('Kuadran 4')\n",
        "\n",
        "# Visualisasi dengan garis kuadran\n",
        "plt.figure(figsize=(8, 6))\n",
        "scatter = plt.scatter(X_mds[:, 0], X_mds[:, 1], c=colors, s=50)\n",
        "\n",
        "# Menambahkan garis kuadran\n",
        "plt.axhline(y=y_median, color='black', linestyle='--', linewidth=1)\n",
        "plt.axvline(x=x_median, color='black', linestyle='--', linewidth=1)\n",
        "\n",
        "# Menambahkan legenda\n",
        "from matplotlib.lines import Line2D\n",
        "legend_elements = [\n",
        "    Line2D([0], [0], marker='o', color='w', markerfacecolor='green', markersize=10, label='Kuadran 1'),\n",
        "    Line2D([0], [0], marker='o', color='w', markerfacecolor='blue', markersize=10, label='Kuadran 2'),\n",
        "    Line2D([0], [0], marker='o', color='w', markerfacecolor='yellow', markersize=10, label='Kuadran 3'),\n",
        "    Line2D([0], [0], marker='o', color='w', markerfacecolor='red', markersize=10, label='Kuadran 4')\n",
        "]\n",
        "plt.legend(handles=legend_elements, title=\"Kuadran\")\n",
        "\n",
        "# Label dan judul\n",
        "plt.title(\"MDS Visualization with Quadrant Analysis\")\n",
        "plt.xlabel(\"MDS Dimension 1\")\n",
        "plt.ylabel(\"MDS Dimension 2\")\n",
        "\n",
        "plt.grid(True)\n",
        "plt.show()\n"
      ],
      "metadata": {
        "id": "SFquqzopTF9H"
      },
      "execution_count": null,
      "outputs": []
    },
    {
      "cell_type": "code",
      "source": [
        "# Menyimpan koordinat dan label kuadran ke DataFrame\n",
        "df_mds = pd.DataFrame(X_mds, columns=['Dimensi1', 'Dimensi2'], index=datagizi.index)\n",
        "df_mds['Kuadran'] = labels\n",
        "\n",
        "# Menghitung jumlah produk per kuadran\n",
        "jumlah_kuadran = df_mds['Kuadran'].value_counts().reset_index()\n",
        "jumlah_kuadran.columns = ['Kuadran', 'JumlahProduk']\n",
        "\n",
        "print(jumlah_kuadran)"
      ],
      "metadata": {
        "id": "ezswrkr_TGh3"
      },
      "execution_count": null,
      "outputs": []
    },
    {
      "cell_type": "code",
      "source": [
        "datagizi.columns"
      ],
      "metadata": {
        "id": "gYqsKnOvTMnk"
      },
      "execution_count": null,
      "outputs": []
    },
    {
      "cell_type": "code",
      "source": [
        "# Tentukan kolom yang relevan untuk analisis\n",
        "columns_of_interest = datagizi.columns\n",
        "\n",
        "# Tentukan ambang batas tinggi (misalnya nilai lebih dari rata-rata atau nilai tertentu)\n",
        "high_threshold = datagizi[columns_of_interest].mean()  # Menggunakan rata-rata sebagai ambang batas\n",
        "\n",
        "# Fungsi untuk mengklasifikasikan produk berdasarkan kandungan tinggi/rendah\n",
        "def classify_product(row):\n",
        "    classification = []\n",
        "    for col in columns_of_interest:\n",
        "        if row[col] > high_threshold[col]:\n",
        "            classification.append(f'High {col}')\n",
        "        else:\n",
        "            classification.append(f'Low {col}')\n",
        "    return ', '.join(classification)\n",
        "\n",
        "# Terapkan fungsi untuk setiap produk dan simpan dalam kolom baru\n",
        "datagizi['Classification'] = datagizi.apply(classify_product, axis=1)\n",
        "\n",
        "# Kelompokkan produk berdasarkan klasifikasi mereka\n",
        "grouped = datagizi.groupby('Classification').size().reset_index(name='Total')\n",
        "\n",
        "# Menampilkan hasil sesuai format yang diinginkan\n",
        "for _, row in grouped.iterrows():\n",
        "    classification = row['Classification']\n",
        "    total = row['Total']\n",
        "    product_indexes = datagizi[datagizi['Classification'] == classification].index.tolist()\n",
        "    print(f\"**{classification}** (Total: {total} produk): {', '.join(map(str, product_indexes))}\")\n"
      ],
      "metadata": {
        "id": "UdjXC3_STIqW"
      },
      "execution_count": null,
      "outputs": []
    },
    {
      "cell_type": "code",
      "source": [
        "datagizi.columns"
      ],
      "metadata": {
        "id": "XQtnyyzRdumm"
      },
      "execution_count": null,
      "outputs": []
    },
    {
      "cell_type": "code",
      "source": [
        "datagizi = data.drop(columns=['NamaProduk','Classification'], errors='ignore')"
      ],
      "metadata": {
        "id": "M30rRKhpUqYV"
      },
      "execution_count": null,
      "outputs": []
    },
    {
      "cell_type": "code",
      "source": [
        "datagizi.columns"
      ],
      "metadata": {
        "id": "H35u2bn0ds52"
      },
      "execution_count": null,
      "outputs": []
    },
    {
      "cell_type": "code",
      "source": [
        "# Analisis Deskriptif\n",
        "nilai_mean = np.mean(datagizi, axis=0)\n",
        "nilai_max = np.max(datagizi, axis=0)\n",
        "nilai_min = np.min(datagizi, axis=0)\n",
        "nilai_std_dev = np.std(datagizi, axis=0)\n",
        "# Membuat DataFrame dengan menggunakan pandas\n",
        "df_analisis_deskriptif = pd.DataFrame({\n",
        "    'Mean': nilai_mean,\n",
        "    'Max': nilai_max,\n",
        "    'Min': nilai_min,\n",
        "    'Std Dev': nilai_std_dev\n",
        "    })\n",
        "# Menampilkan DataFrame\n",
        "print(\"DataFrame hasil analisis:\")\n",
        "print(df_analisis_deskriptif)"
      ],
      "metadata": {
        "id": "55iNaSKxTKlA"
      },
      "execution_count": null,
      "outputs": []
    },
    {
      "cell_type": "code",
      "source": [
        "import matplotlib.pyplot as plt\n",
        "import seaborn as sns\n",
        "\n",
        "# Membuat figure dengan 7 subplot (3 baris x 3 kolom)\n",
        "fig, axes = plt.subplots(3, 3, figsize=(15, 15))\n",
        "\n",
        "# Flatten axes untuk memudahkan iterasi\n",
        "axes = axes.flatten()\n",
        "\n",
        "# List kolom yang akan diplot\n",
        "columns = ['Karbohidrat', 'LemakTotal', 'LemakJenuh', 'Gula', 'Garam']\n",
        "colors = ['red', 'orange', 'yellow', 'green', 'blue', 'grey']\n",
        "\n",
        "# Loop untuk membuat boxplot di setiap subplot\n",
        "for i, (col, color) in enumerate(zip(columns, colors)):\n",
        "    sns.boxplot(y=datagizi[col], color=color, ax=axes[i])\n",
        "    axes[i].set_title(f'Boxplot untuk {col} pada Mi Instan')\n",
        "    axes[i].set_ylabel('Nilai')\n",
        "    axes[i].set_xlabel(col)\n",
        "\n",
        "# Menyembunyikan subplot yang tidak digunakan\n",
        "for j in range(len(columns), len(axes)):\n",
        "    axes[j].axis('off')\n",
        "\n",
        "# Menyimpan plot sebagai file gambar\n",
        "plt.savefig('boxplot_kandungan_gizi.png', dpi=300, bbox_inches='tight')\n",
        "\n",
        "# Menampilkan plot\n",
        "plt.tight_layout()\n",
        "plt.show()\n",
        "\n"
      ],
      "metadata": {
        "id": "Cy4ubmIFTQOI"
      },
      "execution_count": null,
      "outputs": []
    },
    {
      "cell_type": "code",
      "source": [
        "import pandas as pd\n",
        "\n",
        "outliers_dict = {}\n",
        "\n",
        "for kolom in columns:\n",
        "    Q1 = data[columns].quantile(0.25)\n",
        "    Q3 = data[columns].quantile(0.75)\n",
        "    IQR = Q3 - Q1\n",
        "    batas_bawah = Q1 - 1.5 * IQR\n",
        "    batas_atas = Q3 + 1.5 * IQR\n",
        "\n",
        "    # Ambil data yang menjadi outlier\n",
        "    outliers = data[(data[columns] < batas_bawah) | (data[columns] > batas_atas)]\n",
        "\n",
        "    # Simpan ke dictionary dengan nama kolom nutrisi\n",
        "    outliers_dict[kolom] = outliers[['NamaProduk', kolom]]\n",
        "\n",
        "print(\"Outlier Karbohidrat:\")\n",
        "print(outliers['Karbohidrat'].dropna())\n",
        "\n",
        "print(\"Outlier Lemak Total:\")\n",
        "print(outliers['LemakTotal'].dropna())\n",
        "\n",
        "print(\"Outlier Lemak Jenuh:\")\n",
        "print(outliers['LemakJenuh'].dropna())\n",
        "\n",
        "print(\"Outlier Gula:\")\n",
        "print(outliers['Gula'].dropna())\n",
        "\n",
        "print(\"Outlier Garam:\")\n",
        "print(outliers['Garam'].dropna())"
      ],
      "metadata": {
        "id": "sr2Keq1sTQ7Z"
      },
      "execution_count": null,
      "outputs": []
    },
    {
      "cell_type": "code",
      "source": [
        "from sklearn.preprocessing import MinMaxScaler\n",
        "# Inisialisasi MinMaxScaler\n",
        "scaler = MinMaxScaler()\n",
        "# Transformasi data menggunakan MinMaxScaler\n",
        "gizistd = scaler.fit_transform(datagizi)\n",
        "# data standar ke dataframe\n",
        "gizistd_df = pd.DataFrame(gizistd, columns=datagizi.columns)\n",
        "gizistd_df"
      ],
      "metadata": {
        "id": "tLeqXvMSTTiG"
      },
      "execution_count": null,
      "outputs": []
    },
    {
      "cell_type": "code",
      "source": [
        "np.random.seed(42)\n",
        "#Inisialisasi HDBSCAN\n",
        "clusterer = hdbscan.HDBSCAN(min_cluster_size=5, min_samples=5, metric='euclidean', gen_min_span_tree=True)\n",
        "# Fit model ke data\n",
        "clusterer.fit(gizistd_df)"
      ],
      "metadata": {
        "id": "38aMubB4TX3i"
      },
      "execution_count": null,
      "outputs": []
    },
    {
      "cell_type": "code",
      "source": [
        "plt.figure(figsize=(8, 6))\n",
        "clusterer.minimum_spanning_tree_.plot(edge_cmap='viridis',\n",
        "edge_alpha=0.6,\n",
        "node_size=100,\n",
        "edge_linewidth=2)"
      ],
      "metadata": {
        "id": "m5jwgc96TaFj"
      },
      "execution_count": null,
      "outputs": []
    },
    {
      "cell_type": "code",
      "source": [
        "plt.figure(figsize=(8, 6))\n",
        "clusterer.single_linkage_tree_.plot(cmap='viridis', colorbar=True)"
      ],
      "metadata": {
        "id": "vzy_4yO_TdTV"
      },
      "execution_count": null,
      "outputs": []
    },
    {
      "cell_type": "code",
      "source": [
        "plt.figure(figsize=(8, 6))\n",
        "clusterer.condensed_tree_.plot()"
      ],
      "metadata": {
        "id": "W2v_RwF_Tfbl"
      },
      "execution_count": null,
      "outputs": []
    },
    {
      "cell_type": "code",
      "source": [
        "plt.figure(figsize=(8, 6))\n",
        "clusterer.condensed_tree_.plot(select_clusters=True,\n",
        "selection_palette=sns.color_palette())"
      ],
      "metadata": {
        "id": "rtZz8HzgTim4"
      },
      "execution_count": null,
      "outputs": []
    },
    {
      "cell_type": "code",
      "source": [
        "# Hasil clustering\n",
        "print(clusterer.labels_)"
      ],
      "metadata": {
        "id": "k1mGz6WXTkkn"
      },
      "execution_count": null,
      "outputs": []
    },
    {
      "cell_type": "code",
      "source": [
        "print(\"Cluster Labels:\")\n",
        "print(clusterer.labels_)\n",
        "print(\"Cluster Probabilities:\")\n",
        "print(clusterer.probabilities_)"
      ],
      "metadata": {
        "id": "fsk9EaJATmYe"
      },
      "execution_count": null,
      "outputs": []
    },
    {
      "cell_type": "code",
      "source": [
        "# Menambahkan kolom 'Cluster' ke DataFrame\n",
        "gizistd_df['Cluster'] = clusterer.labels_"
      ],
      "metadata": {
        "id": "o2_wwwvfTm6C"
      },
      "execution_count": null,
      "outputs": []
    },
    {
      "cell_type": "code",
      "source": [
        "# Menampilkan jumlah klaster yang terbentuk\n",
        "n_clusters = len(gizistd_df['Cluster'].unique())\n",
        "print(f\"\\nJumlah Klaster yang Terbentuk: {n_clusters}\")"
      ],
      "metadata": {
        "id": "6_gHRZnsTo3o"
      },
      "execution_count": null,
      "outputs": []
    },
    {
      "cell_type": "code",
      "source": [
        "# Menampilkan jumlah anggota setiap cluster\n",
        "cluster_member_counts = gizistd_df['Cluster'].value_counts()\n",
        "print(\"\\nJumlah Anggota Setiap Cluster:\")\n",
        "print(cluster_member_counts)"
      ],
      "metadata": {
        "id": "FotLnYeITqd9"
      },
      "execution_count": null,
      "outputs": []
    },
    {
      "cell_type": "code",
      "source": [
        "# Menampilkan anggota mana saja yang masuk ke dalam setiap cluster\n",
        "print(\"\\nAnggota Setiap Cluster:\")\n",
        "\n",
        "for cluster_id, member_count in cluster_member_counts.items():\n",
        "    cluster_members = gizistd_df[gizistd_df['Cluster'] == cluster_id].index.tolist()\n",
        "    print(f\"\\nCluster {cluster_id} (Jumlah anggota: {member_count}):\\n{cluster_members}\")"
      ],
      "metadata": {
        "id": "u7uKAdL4TssZ"
      },
      "execution_count": null,
      "outputs": []
    },
    {
      "cell_type": "code",
      "source": [
        "# Filter cluster dengan label -1\n",
        "filtered_labels = clusterer.labels_[clusterer.labels_ != -1]\n",
        "filtered_probabilities = clusterer.probabilities_[clusterer.labels_ != -1]"
      ],
      "metadata": {
        "id": "6ji5CTv1TuzN"
      },
      "execution_count": null,
      "outputs": []
    },
    {
      "cell_type": "code",
      "source": [
        "print(\"Cluster Labels:\")\n",
        "print(filtered_labels)\n",
        "print(\"Cluster Probabilities:\")\n",
        "print(filtered_probabilities)"
      ],
      "metadata": {
        "id": "Gthle2aVTwpB"
      },
      "execution_count": null,
      "outputs": []
    },
    {
      "cell_type": "code",
      "source": [
        "# Menghapus cluster -1 dari DataFrame\n",
        "data_std_filtered = gizistd_df.query('Cluster != -1')\n",
        "\n",
        "# Memastikan bahwa kolom 'Cluster' ada dalam DataFrame sebelum dihapus\n",
        "if 'Cluster' in data_std_filtered.columns:\n",
        "    # Drop kolom 'Cluster'\n",
        "    dataakhir = data_std_filtered.drop(columns=['Cluster'])\n",
        "else:\n",
        "    dataakhir = data_std_filtered\n",
        "\n",
        "# Menampilkan hasil\n",
        "dataakhir"
      ],
      "metadata": {
        "id": "H12109KqTyV_"
      },
      "execution_count": null,
      "outputs": []
    },
    {
      "cell_type": "code",
      "source": [
        "data_std_filtered"
      ],
      "metadata": {
        "id": "hMadC5HhT0d8"
      },
      "execution_count": null,
      "outputs": []
    },
    {
      "cell_type": "code",
      "source": [
        "# Hitung silhouette score\n",
        "silhouette = silhouette_score(dataakhir, filtered_labels)\n",
        "print(\"Nilai Silhouette Score: \", silhouette)"
      ],
      "metadata": {
        "id": "NGsndZttT5bP"
      },
      "execution_count": null,
      "outputs": []
    },
    {
      "cell_type": "code",
      "source": [
        "from sklearn.metrics import calinski_harabasz_score\n",
        "\n",
        "# Hitung CH Index\n",
        "chi = calinski_harabasz_score(dataakhir, filtered_labels)\n",
        "print(f\"Calinski-Harabasz Index: {chi:.2f}\")"
      ],
      "metadata": {
        "id": "dvR2ehsuT7fi"
      },
      "execution_count": null,
      "outputs": []
    },
    {
      "cell_type": "code",
      "source": [
        "data_cluster1 = data_std_filtered[data_std_filtered['Cluster'] == 1]\n",
        "data_cluster0 = data_std_filtered[data_std_filtered['Cluster'] == 0]\n",
        "cluster1 = data_cluster1.drop(columns=['Cluster'])\n",
        "cluster0 = data_cluster0.drop(columns=['Cluster'])"
      ],
      "metadata": {
        "id": "PMGMjS_KT9cy"
      },
      "execution_count": null,
      "outputs": []
    },
    {
      "cell_type": "code",
      "source": [
        "from scipy.stats import shapiro\n",
        "\n",
        "clusters = [cluster0, cluster1]\n",
        "variables = ['LemakTotal', 'LemakJenuh', 'Karbohidrat', 'Gula', 'Garam']\n",
        "\n",
        "for var in variables:\n",
        "    for i, cl in enumerate(clusters):\n",
        "        if var in cl.columns:\n",
        "            stat, p = shapiro(cl[var].dropna())\n",
        "            print(f\"{var} - Cluster {i}: W={stat:.3f}, p={p:.3f} → {'Normal' if p > 0.05 else 'Tidak Normal'}\")"
      ],
      "metadata": {
        "id": "9e08sBjfUAVY"
      },
      "execution_count": null,
      "outputs": []
    },
    {
      "cell_type": "code",
      "source": [
        "from scipy.stats import levene\n",
        "\n",
        "# Uji Homogenitas (Levene's Test)\n",
        "for var in variables:\n",
        "    data_cluster0 = cluster0[var]\n",
        "    data_cluster1 = cluster1[var]\n",
        "    stat, p_value = levene(data_cluster0, data_cluster1)\n",
        "    print(f\"Homogenitas - {var}:\")\n",
        "    print(f\"  Statistik = {stat:.3f}, p-value = {p_value:.3f}\")\n",
        "    print(f\"  Kesimpulan: {'Varian Homogen' if p_value > 0.05 else 'Varian Tidak Homogen'}\\n\")"
      ],
      "metadata": {
        "id": "TmDoYqe-UITd"
      },
      "execution_count": null,
      "outputs": []
    },
    {
      "cell_type": "code",
      "source": [
        "from scipy.stats import mannwhitneyu\n",
        "stat, p = mannwhitneyu(cluster1, cluster0, alternative='two-sided')\n",
        "print(\"=== Hasil Mann-Whitney U Test ===\")\n",
        "print(\"Statistik Uji:\", stat)\n",
        "print(\"p-value:\", p)"
      ],
      "metadata": {
        "id": "i6k1yo86UKvw"
      },
      "execution_count": null,
      "outputs": []
    }
  ]
}